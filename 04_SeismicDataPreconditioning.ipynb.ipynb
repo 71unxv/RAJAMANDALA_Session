{
 "cells": [
  {
   "cell_type": "markdown",
   "metadata": {},
   "source": [
    "#                   Improve your daily work with Python\n",
    "##### a webinar by Rajamandala Indonesia\n",
    "<img src='Rajamandala-Logo.jpeg' >\n",
    "\n",
    "##### M. Irsyad Hibatullah - Geophysicist at Pertamina Hulu Mahakam"
   ]
  },
  {
   "cell_type": "markdown",
   "metadata": {},
   "source": [
    "# Case 02: Seismic Batch Preconditioning\n",
    "#### Sub-Objective:\n",
    "##### •What kind of Seismic data type do we have?\n",
    "##### •How the output will be delivered? What kind of output format?\n",
    "##### •How to read Seismic\n",
    "##### •How to do the Preconditioning calculation?\n",
    "\n"
   ]
  },
  {
   "cell_type": "markdown",
   "metadata": {},
   "source": [
    "### Get the Seismic File List"
   ]
  },
  {
   "cell_type": "code",
   "execution_count": 1,
   "metadata": {},
   "outputs": [
    {
     "name": "stdout",
     "output_type": "stream",
     "text": [
      "C:\\Users\\irsya\\Documents\\Jiunx_Files\\PYTHON_PROJECT\\RajamandalaSession\\RAJAMANDALA_SeismicDAta\\Selected\\312_293_mig16res2.sgy\n",
      "C:\\Users\\irsya\\Documents\\Jiunx_Files\\PYTHON_PROJECT\\RajamandalaSession\\RAJAMANDALA_SeismicDAta\\Selected\\332_298_mig160001.sgy\n",
      "C:\\Users\\irsya\\Documents\\Jiunx_Files\\PYTHON_PROJECT\\RajamandalaSession\\RAJAMANDALA_SeismicDAta\\Selected\\343_305_ mig000001_sm333_Band-pass.sgy\n",
      "C:\\Users\\irsya\\Documents\\Jiunx_Files\\PYTHON_PROJECT\\RajamandalaSession\\RAJAMANDALA_SeismicDAta\\Selected\\420_339_mig160001.sgy\n",
      "C:\\Users\\irsya\\Documents\\Jiunx_Files\\PYTHON_PROJECT\\RajamandalaSession\\RAJAMANDALA_SeismicDAta\\Selected\\432_348_mig160001.sgy\n"
     ]
    }
   ],
   "source": [
    "import os\n",
    "import glob\n",
    "\n",
    "InitialFolder = \"C:\\\\Users\\\\irsya\\\\Documents\\\\Jiunx_Files\\\\PYTHON_PROJECT\\\\RajamandalaSession\\\\RAJAMANDALA_SeismicDAta\\\\Selected\"\n",
    "# PathList_1 = [y for x in os.walk(InitialFolder) for y in glob(os.path.join(x[0], '*.SEGY'))]\n",
    "# PathList_2 = [y for x in os.walk(InitialFolder) for y in glob(os.path.join(x[0], '*.SGY'))]\n",
    "\n",
    "\n",
    "\n",
    "PathList = glob.glob(InitialFolder + '**\\\\*.SGY', recursive=True)\n",
    "# PathList_2 = glob.glob(InitialFolder + '**\\\\*.SGY', recursive=True)\n",
    "# PathList = PathList_1 + PathList_2\n",
    "for i in PathList:\n",
    "    print(i)\n"
   ]
  },
  {
   "cell_type": "code",
   "execution_count": 2,
   "metadata": {},
   "outputs": [
    {
     "name": "stdout",
     "output_type": "stream",
     "text": [
      "Completed --- Found 5 Seismic Data\n"
     ]
    }
   ],
   "source": [
    "SizeList = []\n",
    "ExtList = []\n",
    "FileNameList = []\n",
    "FolderLocationList = []\n",
    "for idx,path_result in enumerate(PathList):\n",
    "    \n",
    "    \n",
    "    SizeList.append(os.path.getsize(path_result)/(1024*1024))\n",
    "    ExtList.append(path_result.split('.')[-1])\n",
    "\n",
    "    FileNameTemp = path_result.split('.')[0].split('\\\\')[-1]\n",
    "    FileNameList.append(FileNameTemp)\n",
    "    \n",
    "    FolderLocationList.append(path_result.split(FileNameTemp)[0])\n",
    "    \n",
    "    print ('Loading ---- ' + str((idx + 1)/len(path_result)), end=\"\\r\")\n",
    "print ('Completed --- Found ' + str(len(PathList)) + ' Seismic Data')\n"
   ]
  },
  {
   "cell_type": "code",
   "execution_count": 4,
   "metadata": {},
   "outputs": [],
   "source": [
    "import pandas as pd\n",
    "ListSeismic_DB = pd.DataFrame(\n",
    "    {'PathList': PathList,\n",
    "     'SizeList': SizeList,\n",
    "     'ExtList': ExtList,\n",
    "     'FileNameList': FileNameList,\n",
    "     'FolderLocationList': FolderLocationList,\n",
    "    }\n",
    ")"
   ]
  },
  {
   "cell_type": "code",
   "execution_count": 5,
   "metadata": {},
   "outputs": [
    {
     "data": {
      "text/html": [
       "<div>\n",
       "<style scoped>\n",
       "    .dataframe tbody tr th:only-of-type {\n",
       "        vertical-align: middle;\n",
       "    }\n",
       "\n",
       "    .dataframe tbody tr th {\n",
       "        vertical-align: top;\n",
       "    }\n",
       "\n",
       "    .dataframe thead th {\n",
       "        text-align: right;\n",
       "    }\n",
       "</style>\n",
       "<table border=\"1\" class=\"dataframe\">\n",
       "  <thead>\n",
       "    <tr style=\"text-align: right;\">\n",
       "      <th></th>\n",
       "      <th>PathList</th>\n",
       "      <th>SizeList</th>\n",
       "      <th>ExtList</th>\n",
       "      <th>FileNameList</th>\n",
       "      <th>FolderLocationList</th>\n",
       "    </tr>\n",
       "  </thead>\n",
       "  <tbody>\n",
       "    <tr>\n",
       "      <th>0</th>\n",
       "      <td>C:\\Users\\irsya\\Documents\\Jiunx_Files\\PYTHON_PR...</td>\n",
       "      <td>1.258095</td>\n",
       "      <td>sgy</td>\n",
       "      <td>312_293_mig16res2</td>\n",
       "      <td>C:\\Users\\irsya\\Documents\\Jiunx_Files\\PYTHON_PR...</td>\n",
       "    </tr>\n",
       "    <tr>\n",
       "      <th>1</th>\n",
       "      <td>C:\\Users\\irsya\\Documents\\Jiunx_Files\\PYTHON_PR...</td>\n",
       "      <td>1.075180</td>\n",
       "      <td>sgy</td>\n",
       "      <td>332_298_mig160001</td>\n",
       "      <td>C:\\Users\\irsya\\Documents\\Jiunx_Files\\PYTHON_PR...</td>\n",
       "    </tr>\n",
       "    <tr>\n",
       "      <th>2</th>\n",
       "      <td>C:\\Users\\irsya\\Documents\\Jiunx_Files\\PYTHON_PR...</td>\n",
       "      <td>2.211975</td>\n",
       "      <td>sgy</td>\n",
       "      <td>343_305_ mig000001_sm333_Band-pass</td>\n",
       "      <td>C:\\Users\\irsya\\Documents\\Jiunx_Files\\PYTHON_PR...</td>\n",
       "    </tr>\n",
       "    <tr>\n",
       "      <th>3</th>\n",
       "      <td>C:\\Users\\irsya\\Documents\\Jiunx_Files\\PYTHON_PR...</td>\n",
       "      <td>1.938725</td>\n",
       "      <td>sgy</td>\n",
       "      <td>420_339_mig160001</td>\n",
       "      <td>C:\\Users\\irsya\\Documents\\Jiunx_Files\\PYTHON_PR...</td>\n",
       "    </tr>\n",
       "    <tr>\n",
       "      <th>4</th>\n",
       "      <td>C:\\Users\\irsya\\Documents\\Jiunx_Files\\PYTHON_PR...</td>\n",
       "      <td>1.193855</td>\n",
       "      <td>sgy</td>\n",
       "      <td>432_348_mig160001</td>\n",
       "      <td>C:\\Users\\irsya\\Documents\\Jiunx_Files\\PYTHON_PR...</td>\n",
       "    </tr>\n",
       "  </tbody>\n",
       "</table>\n",
       "</div>"
      ],
      "text/plain": [
       "                                            PathList  SizeList ExtList  \\\n",
       "0  C:\\Users\\irsya\\Documents\\Jiunx_Files\\PYTHON_PR...  1.258095     sgy   \n",
       "1  C:\\Users\\irsya\\Documents\\Jiunx_Files\\PYTHON_PR...  1.075180     sgy   \n",
       "2  C:\\Users\\irsya\\Documents\\Jiunx_Files\\PYTHON_PR...  2.211975     sgy   \n",
       "3  C:\\Users\\irsya\\Documents\\Jiunx_Files\\PYTHON_PR...  1.938725     sgy   \n",
       "4  C:\\Users\\irsya\\Documents\\Jiunx_Files\\PYTHON_PR...  1.193855     sgy   \n",
       "\n",
       "                         FileNameList  \\\n",
       "0                   312_293_mig16res2   \n",
       "1                   332_298_mig160001   \n",
       "2  343_305_ mig000001_sm333_Band-pass   \n",
       "3                   420_339_mig160001   \n",
       "4                   432_348_mig160001   \n",
       "\n",
       "                                  FolderLocationList  \n",
       "0  C:\\Users\\irsya\\Documents\\Jiunx_Files\\PYTHON_PR...  \n",
       "1  C:\\Users\\irsya\\Documents\\Jiunx_Files\\PYTHON_PR...  \n",
       "2  C:\\Users\\irsya\\Documents\\Jiunx_Files\\PYTHON_PR...  \n",
       "3  C:\\Users\\irsya\\Documents\\Jiunx_Files\\PYTHON_PR...  \n",
       "4  C:\\Users\\irsya\\Documents\\Jiunx_Files\\PYTHON_PR...  "
      ]
     },
     "execution_count": 5,
     "metadata": {},
     "output_type": "execute_result"
    }
   ],
   "source": [
    "ListSeismic_DB"
   ]
  },
  {
   "cell_type": "code",
   "execution_count": 8,
   "metadata": {},
   "outputs": [],
   "source": [
    "ListSeismic_DB['Dest_SeismicPath'] = ListSeismic_DB['PathList']"
   ]
  },
  {
   "cell_type": "code",
   "execution_count": 10,
   "metadata": {},
   "outputs": [],
   "source": [
    "ListSeismic_DB.to_excel('RAJAMANDALA_SeismicList.xlsx')"
   ]
  },
  {
   "cell_type": "code",
   "execution_count": 7,
   "metadata": {},
   "outputs": [],
   "source": [
    "import pandas as pd \n",
    "import segyio\n",
    "import matplotlib.pyplot as plt \n",
    "import glob\n",
    "import time\n",
    "from sklearn.preprocessing import StandardScaler, MinMaxScaler, QuantileTransformer\n",
    "\n",
    "def read_segy(srcpath):\n",
    "    with segyio.open(srcpath, ignore_geometry = True) as src:\n",
    "\n",
    "        data = src.trace.raw[:]\n",
    "    return data\n",
    "\n",
    "def run_SeismicBalancer(srcpath,dstpath, minmax_range=(-10000, 10000)):\n",
    "    with segyio.open(srcpath,ignore_geometry=True) as src:\n",
    "\n",
    "        spec = segyio.spec()\n",
    "        spec.sorting = src.sorting\n",
    "        spec.format = src.format\n",
    "        spec.samples = src.samples\n",
    "\n",
    "        spec.tracecount = src.tracecount\n",
    "        with segyio.create(dstpath, spec) as dst:\n",
    "            dst.text[0] = src.text[0]\n",
    "            dst.bin = src.bin\n",
    "            dst.header = src.header\n",
    "            dst.trace = src.trace\n",
    "            data = src.trace.raw[:].T\n",
    "            new_data = SeismicBalancer(data, minmax_range=minmax_range)\n",
    "            dst.trace = new_data.T\n",
    "\n",
    "def SeismicBalancer(data, minmax_range=(-10000, 10000)):\n",
    "    \n",
    "    Standarized = StandardScaler()\n",
    "    MinMax = MinMaxScaler(feature_range=minmax_range)\n",
    "\n",
    "    Standarized.fit(data.reshape((-1,1)))\n",
    "    Standarized.fit(data)\n",
    "    quantile_transformer = QuantileTransformer(\n",
    "        output_distribution='normal',\n",
    "        n_quantiles=100,\n",
    "        random_state=0)\n",
    "    datax = Standarized.transform(data)\n",
    "\n",
    "    return datax\n"
   ]
  },
  {
   "cell_type": "code",
   "execution_count": 13,
   "metadata": {},
   "outputs": [
    {
     "name": "stdout",
     "output_type": "stream",
     "text": [
      "C:\\Users\\irsya\\Documents\\Jiunx_Files\\PYTHON_PROJECT\\RajamandalaSession\\RAJAMANDALA_SeismicDAta\\Selected\\312_293_mig16res2.sgy\n",
      "Job no.0 \t Balancing 312_293_mig16res2.sgy is Done ;\t\t elapsed time is 0.08001184463500977 s\n",
      "C:\\Users\\irsya\\Documents\\Jiunx_Files\\PYTHON_PROJECT\\RajamandalaSession\\RAJAMANDALA_SeismicDAta\\Selected\\332_298_mig160001.sgy\n",
      "Job no.1 \t Balancing 332_298_mig160001.sgy is Done ;\t\t elapsed time is 0.0649871826171875 s\n",
      "C:\\Users\\irsya\\Documents\\Jiunx_Files\\PYTHON_PROJECT\\RajamandalaSession\\RAJAMANDALA_SeismicDAta\\Selected\\343_305_ mig000001_sm333_Band-pass.sgy\n",
      "Job no.2 \t Balancing 343_305_ mig000001_sm333_Band-pass.sgy is Done ;\t\t elapsed time is 0.13900041580200195 s\n",
      "C:\\Users\\irsya\\Documents\\Jiunx_Files\\PYTHON_PROJECT\\RajamandalaSession\\RAJAMANDALA_SeismicDAta\\Selected\\420_339_mig160001.sgy\n",
      "Job no.3 \t Balancing 420_339_mig160001.sgy is Done ;\t\t elapsed time is 0.07300019264221191 s\n",
      "C:\\Users\\irsya\\Documents\\Jiunx_Files\\PYTHON_PROJECT\\RajamandalaSession\\RAJAMANDALA_SeismicDAta\\Selected\\432_348_mig160001.sgy\n",
      "Job no.4 \t Balancing 432_348_mig160001.sgy is Done ;\t\t elapsed time is 0.1190328598022461 s\n"
     ]
    }
   ],
   "source": [
    "path_excel_file = \"RAJAMANDALA_SeismicList.xlsx\"\n",
    "\n",
    "SeismicSurvey_DB = pd.read_excel(path_excel_file, engine='openpyxl')\n",
    "SeismicSurvey_DB = SeismicSurvey_DB[SeismicSurvey_DB['PathList'].notna()]\n",
    "\n",
    "list_error = []\n",
    "list_error_path = []\n",
    "list_error_filename = []\n",
    "list_error_survey = []\n",
    "list_error_survey_sub_folder = []\n",
    "start = time.time()\n",
    "\n",
    "error_df = pd.DataFrame()\n",
    "\n",
    "for i,SeismicSurver_Row in SeismicSurvey_DB.iterrows():\n",
    "    SeismicPath = SeismicSurver_Row['PathList']\n",
    "\n",
    "    if i >=0:\n",
    "        tic = time.time()\n",
    "        SeismicName = SeismicPath.split('\\\\')[-1]\n",
    "\n",
    "        print(SeismicPath)\n",
    "\n",
    "        \n",
    "        try :\n",
    "\n",
    "            Dest_SeismicPath = SeismicSurver_Row[\"Dest_SeismicPath\"].split(\".sgy\")[0] + \"_Balanced.sgy\"\n",
    "\n",
    "            run_SeismicBalancer(SeismicPath, Dest_SeismicPath)\n",
    "            \n",
    "            toc = time.time()\n",
    "            elapsed_time = toc-tic\n",
    "            print(\"Job no.\"+ str(i) + \" \\t Balancing \" + SeismicName + \" is Done ;\\t\\t elapsed time is \" + str(elapsed_time) + \" s\")\n",
    "\n",
    "\n",
    "        except Exception as error_msg:\n",
    "        \n",
    "            list_error.append(SeismicName)\n",
    "            list_error_path.append(SeismicPath)\n",
    "            #list_error_survey.append(SeismicSurvey)\n",
    "            list_error_survey_sub_folder.append(error_msg)\n",
    "            error_df['seismic_name'] =  list_error\n",
    "            error_df['seismic_path'] = list_error_path\n",
    "            #error_df['seismic_survey'] = list_error_survey\n",
    "            error_df['ERROR'] = list_error_survey_sub_folder\n",
    "\n",
    "            path_error_log = path_excel_file.split('.')[0]\n",
    "            error_df.to_excel((path_error_log + \"_error_log\" + \".xlsx\"))\n",
    "            print(error_msg)"
   ]
  },
  {
   "cell_type": "code",
   "execution_count": null,
   "metadata": {},
   "outputs": [],
   "source": []
  }
 ],
 "metadata": {
  "kernelspec": {
   "display_name": "Python 3",
   "language": "python",
   "name": "python3"
  },
  "language_info": {
   "codemirror_mode": {
    "name": "ipython",
    "version": 3
   },
   "file_extension": ".py",
   "mimetype": "text/x-python",
   "name": "python",
   "nbconvert_exporter": "python",
   "pygments_lexer": "ipython3",
   "version": "3.6.12"
  }
 },
 "nbformat": 4,
 "nbformat_minor": 4
}
